{
 "cells": [
  {
   "cell_type": "markdown",
   "metadata": {},
   "source": [
    "# Foundation Model Prompt Engineering: Text2Text Generation\n"
   ]
  },
  {
   "cell_type": "code",
   "execution_count": 56,
   "metadata": {
    "tags": []
   },
   "outputs": [],
   "source": [
    "import logging\n",
    "import json\n",
    "import time\n",
    "import boto3\n",
    "\n",
    "import matplotlib.pyplot as plt\n",
    "import numpy as np\n",
    "import requests\n",
    "from tqdm.contrib.concurrent import thread_map\n",
    "\n",
    "region = boto3.Session().region_name\n",
    "\n",
    "logger = logging.getLogger('sagemaker')\n",
    "logger.setLevel(logging.DEBUG)\n",
    "logger.addHandler(logging.StreamHandler())\n",
    "#url = \"https://yyosweaa3e.execute-api.us-east-1.amazonaws.com/LATEST/HF\"\n",
    "url = \"https://94nlwnaute.execute-api.us-east-1.amazonaws.com/Prod/invoke\""
   ]
  },
  {
   "cell_type": "code",
   "execution_count": 57,
   "metadata": {
    "tags": []
   },
   "outputs": [],
   "source": [
    "def query_endpoint_with_json_payload(url, payload):\n",
    "    response = requests.post(\n",
    "        url,\n",
    "        json=payload,\n",
    "    )\n",
    "    #print(payload)\n",
    "    return response\n",
    "\n",
    "def parse_response_multiple_texts(query_response):\n",
    "    model_predictions = query_response.json()\n",
    "    #print(query_response)\n",
    "    generated_text = model_predictions['message']\n",
    "    return generated_text"
   ]
  },
  {
   "cell_type": "markdown",
   "metadata": {},
   "source": [
    "### Advanced features\n",
    "\n",
    "***\n",
    "This model also supports many advanced parameters while performing inference. They include:\n",
    "\n",
    "* **max_length:** Model generates text until the output length (which includes the input context length) reaches `max_length`. If specified, it must be a positive integer.\n",
    "* **num_return_sequences:** Number of output sequences returned. If specified, it must be a positive integer.\n",
    "* **num_beams:** Number of beams used in the greedy search. If specified, it must be integer greater than or equal to `num_return_sequences`.\n",
    "* **no_repeat_ngram_size:** Model ensures that a sequence of words of `no_repeat_ngram_size` is not repeated in the output sequence. If specified, it must be a positive integer greater than 1.\n",
    "* **temperature:** Controls the randomness in the output. Higher temperature results in output sequence with low-probability words and lower temperature results in output sequence with high-probability words. If `temperature` -> 0, it results in greedy decoding. If specified, it must be a positive float.\n",
    "* **early_stopping:** If True, text generation is finished when all beam hypotheses reach the end of sentence token. If specified, it must be boolean.\n",
    "* **do_sample:** If True, sample the next word as per the likelihood. If specified, it must be boolean.\n",
    "* **top_k:** In each step of text generation, sample from only the `top_k` most likely words. If specified, it must be a positive integer.\n",
    "* **top_p:** In each step of text generation, sample from the smallest possible set of words with cumulative probability `top_p`. If specified, it must be a float between 0 and 1.\n",
    "* **seed:** Fix the randomized state for reproducibility. If specified, it must be an integer.\n",
    "\n",
    "We may specify any subset of the parameters mentioned above while invoking an endpoint. Next, we show an example of how to invoke endpoint with these arguments\n",
    "\n",
    "***"
   ]
  },
  {
   "cell_type": "markdown",
   "metadata": {},
   "source": [
    "## N-shot Learning via In-context Learning"
   ]
  },
  {
   "cell_type": "markdown",
   "metadata": {},
   "source": [
    "Let's put in some example input text. You can put any text containing the task, the model returns the output of the accomplished task.\n",
    "\n",
    "Payload must be a json"
   ]
  },
  {
   "cell_type": "markdown",
   "metadata": {},
   "source": [
    "### A. Zero-shot Learning"
   ]
  },
  {
   "cell_type": "markdown",
   "metadata": {},
   "source": [
    "### Text summarisation - generate text and summarise text, Use cases: creating articles, writing product descriptions, etc"
   ]
  },
  {
   "cell_type": "markdown",
   "metadata": {},
   "source": [
    "#### Example 1 - Generate text"
   ]
  },
  {
   "cell_type": "code",
   "execution_count": 58,
   "metadata": {
    "tags": []
   },
   "outputs": [
    {
     "name": "stderr",
     "output_type": "stream",
     "text": [
      "Prompt: Explain Australia’s foreign policy\n",
      "Prompt: Explain Australia’s foreign policy\n"
     ]
    }
   ],
   "source": [
    "instruction = 'Explain Australia’s foreign policy'\n",
    "\n",
    "prompt = instruction\n",
    "\n",
    "logger.info(f'Prompt: {prompt}')"
   ]
  },
  {
   "cell_type": "code",
   "execution_count": 59,
   "metadata": {
    "tags": []
   },
   "outputs": [
    {
     "name": "stderr",
     "output_type": "stream",
     "text": [
      "Generated text: \n",
      "\n",
      "Australia's foreign policy is focused on promoting and protecting Australia's national interests. These interests include security, trade, and economic prosperity. Australia works to build strong relationships with other countries and international organizations, and participates in various international forums and initiatives. Australia's foreign policy is guided by the principles of democracy, human rights, and the rule of law.\n",
      "Generated text: \n",
      "\n",
      "Australia's foreign policy is focused on promoting and protecting Australia's national interests. These interests include security, trade, and economic prosperity. Australia works to build strong relationships with other countries and international organizations, and participates in various international forums and initiatives. Australia's foreign policy is guided by the principles of democracy, human rights, and the rule of law.\n"
     ]
    }
   ],
   "source": [
    "payload = {\"prompt\":prompt, \"max_token\":100, \"temperature\": 0.5}\n",
    "response = query_endpoint_with_json_payload(url, payload)\n",
    "#llm_response = response.json()[\"message\"]\n",
    "#print(llm_response)\n",
    "generated_text = parse_response_multiple_texts(response)\n",
    "logger.info(f'Generated text: \\n{generated_text}')"
   ]
  },
  {
   "cell_type": "markdown",
   "metadata": {
    "tags": []
   },
   "source": [
    "#### Example 2 - Text summarisation"
   ]
  },
  {
   "cell_type": "code",
   "execution_count": 12,
   "metadata": {
    "tags": []
   },
   "outputs": [
    {
     "name": "stderr",
     "output_type": "stream",
     "text": [
      "Context: \n",
      "\n",
      "Australia's foreign policy is guided by the principles of international cooperation, respect for international law, and the promotion of peace, security, and prosperity. Australia is a middle power that works closely with its allies and partners to promote international stability and resolve conflicts. Australia is also a strong advocate for human rights, gender equality, and sustainable development.\n"
     ]
    }
   ],
   "source": [
    "context = generated_text\n",
    "logger.info(f'Context: \\n{context}')"
   ]
  },
  {
   "cell_type": "code",
   "execution_count": 15,
   "metadata": {
    "tags": []
   },
   "outputs": [
    {
     "name": "stderr",
     "output_type": "stream",
     "text": [
      "Prompt: \n",
      "Australia's foreign policy is guided by the principles of international cooperation, respect for international law, and the promotion of peace, security, and prosperity. Australia is a middle power that works closely with its allies and partners to promote international stability and resolve conflicts. Australia is also a strong advocate for human rights, gender equality, and sustainable development.\n",
      "Explain the above in one sentence:\n"
     ]
    }
   ],
   "source": [
    "instruction = \"Explain the above in one sentence\"\n",
    "\n",
    "prompt = f'{context}\\n{instruction}:'\n",
    "logger.info(f'Prompt: {prompt}')"
   ]
  },
  {
   "cell_type": "code",
   "execution_count": 17,
   "metadata": {
    "tags": []
   },
   "outputs": [
    {
     "name": "stderr",
     "output_type": "stream",
     "text": [
      "Gnerated text: \n",
      "\n",
      "Australia is a middle power that works closely with its allies and partners to promote international stability and resolve conflicts.\n"
     ]
    }
   ],
   "source": [
    "payload = {\"prompt\":prompt, \"max_token\":100, \"temperature\": 0.5}\n",
    "response = query_endpoint_with_json_payload(url, payload)\n",
    "generated_text = parse_response_multiple_texts(response)\n",
    "logger.info(f'Generated text: \\n{generated_text}')"
   ]
  },
  {
   "cell_type": "markdown",
   "metadata": {},
   "source": [
    "#### Sentiment Analysis/Classification"
   ]
  },
  {
   "cell_type": "markdown",
   "metadata": {},
   "source": [
    "#### Example 3: generate text, product description"
   ]
  },
  {
   "cell_type": "code",
   "execution_count": 22,
   "metadata": {
    "tags": []
   },
   "outputs": [
    {
     "name": "stderr",
     "output_type": "stream",
     "text": [
      "Prompt: Generate a concise product description for the product: laptop.:\n"
     ]
    }
   ],
   "source": [
    "instruction = \"Generate a concise product description for the product: laptop.\"\n",
    "\n",
    "prompt = f'{instruction}:'\n",
    "logger.info(f'Prompt: {prompt}')"
   ]
  },
  {
   "cell_type": "code",
   "execution_count": 23,
   "metadata": {
    "tags": []
   },
   "outputs": [
    {
     "name": "stderr",
     "output_type": "stream",
     "text": [
      "Generated text: \n",
      "\n",
      "A laptop is a portable computer that is designed to be easily carried and used. It can be used for a variety of tasks, including word processing, web browsing, and playing games.\n"
     ]
    }
   ],
   "source": [
    "payload = {\"prompt\":prompt, \"max_token\":100, \"temperature\": 0.5}\n",
    "response = query_endpoint_with_json_payload(url, payload)\n",
    "generated_text = parse_response_multiple_texts(response)\n",
    "logger.info(f'Generated text: \\n{generated_text}')"
   ]
  },
  {
   "cell_type": "markdown",
   "metadata": {
    "tags": []
   },
   "source": [
    "#### Example 4: Lets control the output of product description, indicating the sections you would like the model to generate"
   ]
  },
  {
   "cell_type": "code",
   "execution_count": 24,
   "metadata": {
    "tags": []
   },
   "outputs": [
    {
     "name": "stderr",
     "output_type": "stream",
     "text": [
      "Prompt: Generate a concise product description for the product: laptop.\n",
      "Use the following format: Hook, Solution, Features and Benefits, Call to Action.\n"
     ]
    }
   ],
   "source": [
    "instruction = \"Generate a concise product description for the product: laptop.\"\n",
    "output_indicator = \"Use the following format: Hook, Solution, Features and Benefits, Call to Action.\"\n",
    "\n",
    "prompt = f'{instruction}\\n{output_indicator}'\n",
    "logger.info(f'Prompt: {prompt}')"
   ]
  },
  {
   "cell_type": "code",
   "execution_count": 25,
   "metadata": {
    "tags": []
   },
   "outputs": [
    {
     "name": "stderr",
     "output_type": "stream",
     "text": [
      "Generated text: \n",
      "\n",
      "Hook:\n",
      "A sleek, powerful laptop that is perfect for on-the-go use.\n",
      "Solution:\n",
      "Our laptop features a long battery life, a fast processor, and a lightweight design.\n",
      "Features and Benefits:\n",
      "-Long battery life: Up to 10 hours of use on a single charge.\n",
      "-Fast processor: Perfect for multitasking and streaming.\n",
      "-Lightweight design: Easily portable and perfect for on-the-go use.\n",
      "Call to Action:\n",
      "Order your laptop today!\n"
     ]
    }
   ],
   "source": [
    "payload = {\"prompt\":prompt, \"max_token\":100, \"temperature\": 0.5}\n",
    "response = query_endpoint_with_json_payload(url, payload)\n",
    "generated_text = parse_response_multiple_texts(response)\n",
    "logger.info(f'Generated text: \\n{generated_text}')"
   ]
  },
  {
   "cell_type": "markdown",
   "metadata": {},
   "source": [
    "### 2. Information extraction: Extract keywords, location, people, sentiment. Use cases: SEO, metadata extraction\n",
    "\n",
    "The example is an excerpt from the article : https://www.sbs.com.au/news/article/anthony-albanese-to-hold-talks-with-joe-biden-and-rishi-sunak-on-aukus-defence-pact/0ar8pshdb\n"
   ]
  },
  {
   "cell_type": "markdown",
   "metadata": {},
   "source": [
    "#### Extract location from the article"
   ]
  },
  {
   "cell_type": "code",
   "execution_count": 38,
   "metadata": {
    "tags": []
   },
   "outputs": [],
   "source": [
    "article_context = \"US President Joe Biden will host leaders of Australia and the United Kingdom \\\n",
    "in San Diego next week to chart a way forward for the provision of nuclear-powered submarines and \\\n",
    "other high-tech weaponry to Australia, sources familiar with the plans said. \\\n",
    "The spokesperson for UK Prime Minister Rishi Sunak said he will visit the United States on Monday \\\n",
    "to meet Mr Biden and Prime Minister Anthony Albanese for talks on the AUKUS defence agreement.\"\n"
   ]
  },
  {
   "cell_type": "code",
   "execution_count": 39,
   "metadata": {
    "tags": []
   },
   "outputs": [
    {
     "name": "stderr",
     "output_type": "stream",
     "text": [
      "Prompt: US President Joe Biden will host leaders of Australia and the United Kingdom in San Diego next week to chart a way forward for the provision of nuclear-powered submarines and other high-tech weaponry to Australia, sources familiar with the plans said. The spokesperson for UK Prime Minister Rishi Sunak said he will visit the United States on Monday to meet Mr Biden and Prime Minister Anthony Albanese for talks on the AUKUS defence agreement.\n",
      "List the locations mentioned in the paragraph above:\n"
     ]
    }
   ],
   "source": [
    "instruction = \"List the locations mentioned in the paragraph above:\"\n",
    "\n",
    "prompt = f'{article_context}\\n{instruction}'\n",
    "logger.info(f'Prompt: {prompt}')"
   ]
  },
  {
   "cell_type": "code",
   "execution_count": 40,
   "metadata": {
    "tags": []
   },
   "outputs": [
    {
     "name": "stderr",
     "output_type": "stream",
     "text": [
      "Generated text: \n",
      "\n",
      "San Diego, United States, Australia, United Kingdom\n"
     ]
    }
   ],
   "source": [
    "payload = {\"prompt\":prompt, \"max_token\":100, \"temperature\": 0.5}\n",
    "response = query_endpoint_with_json_payload(url, payload)\n",
    "generated_text = parse_response_multiple_texts(response)\n",
    "logger.info(f'Locations: \\n{generated_text}')"
   ]
  },
  {
   "cell_type": "markdown",
   "metadata": {},
   "source": [
    "#### Extract people from the article"
   ]
  },
  {
   "cell_type": "code",
   "execution_count": 41,
   "metadata": {
    "tags": []
   },
   "outputs": [
    {
     "name": "stderr",
     "output_type": "stream",
     "text": [
      "Prompt: US President Joe Biden will host leaders of Australia and the United Kingdom in San Diego next week to chart a way forward for the provision of nuclear-powered submarines and other high-tech weaponry to Australia, sources familiar with the plans said. The spokesperson for UK Prime Minister Rishi Sunak said he will visit the United States on Monday to meet Mr Biden and Prime Minister Anthony Albanese for talks on the AUKUS defence agreement.\n",
      "List the people mentioned in the paragraph above:\n"
     ]
    }
   ],
   "source": [
    "instruction = \"List the people mentioned in the paragraph above:\"\n",
    "\n",
    "prompt = f'{article_context}\\n{instruction}'\n",
    "logger.info(f'Prompt: {prompt}')"
   ]
  },
  {
   "cell_type": "code",
   "execution_count": 44,
   "metadata": {
    "tags": []
   },
   "outputs": [
    {
     "name": "stderr",
     "output_type": "stream",
     "text": [
      "People mentined in the article: \n",
      "\n",
      "Biden, Sunak, Albanese\n"
     ]
    }
   ],
   "source": [
    "payload = {\"prompt\":prompt, \"max_token\":100, \"temperature\": 0.5}\n",
    "response = query_endpoint_with_json_payload(url, payload)\n",
    "generated_text = parse_response_multiple_texts(response)\n",
    "logger.info(f'People mentined in the article: \\n{generated_text}')"
   ]
  },
  {
   "cell_type": "markdown",
   "metadata": {},
   "source": [
    "#### Extract keywords from the article"
   ]
  },
  {
   "cell_type": "code",
   "execution_count": 45,
   "metadata": {
    "tags": []
   },
   "outputs": [
    {
     "name": "stderr",
     "output_type": "stream",
     "text": [
      "Prompt: US President Joe Biden will host leaders of Australia and the United Kingdom in San Diego next week to chart a way forward for the provision of nuclear-powered submarines and other high-tech weaponry to Australia, sources familiar with the plans said. The spokesperson for UK Prime Minister Rishi Sunak said he will visit the United States on Monday to meet Mr Biden and Prime Minister Anthony Albanese for talks on the AUKUS defence agreement.\n",
      "Extract keywords from the paragraph above:\n"
     ]
    }
   ],
   "source": [
    "instruction = \"Extract keywords from the paragraph above:\"\n",
    "\n",
    "prompt = f'{article_context}\\n{instruction}'\n",
    "logger.info(f'Prompt: {prompt}')"
   ]
  },
  {
   "cell_type": "code",
   "execution_count": 46,
   "metadata": {
    "tags": []
   },
   "outputs": [
    {
     "name": "stderr",
     "output_type": "stream",
     "text": [
      "Keywords in the article: \n",
      "\n",
      "Australia, UK, US, nuclear-powered submarines, AUKUS\n"
     ]
    }
   ],
   "source": [
    "payload = {\"prompt\":prompt, \"max_token\":100, \"temperature\": 0.5}\n",
    "response = query_endpoint_with_json_payload(url, payload)\n",
    "generated_text = parse_response_multiple_texts(response)\n",
    "logger.info(f'Keywords in the article: \\n{generated_text}')"
   ]
  },
  {
   "cell_type": "markdown",
   "metadata": {},
   "source": [
    "#### Extract sentiment from the article"
   ]
  },
  {
   "cell_type": "code",
   "execution_count": 53,
   "metadata": {
    "tags": []
   },
   "outputs": [],
   "source": [
    "article_context = 'Prime Minister Anthony Albanese is expected to announce Australias pathway to getting nuclear-powered subs in San Diego on Tuesday (AEDT) alongside Mr Biden and Mr Sunak. He will then hold bilateral meetings with both. \\\n",
    "\"This is a joint arrangement between Australia, the United States, and the United Kingdom,\" he told reporters on Thursday during a visit to India. \\\n",
    "\"We are great friends. We have over a century of standing side by side during peacetime and during conflict.'\n"
   ]
  },
  {
   "cell_type": "code",
   "execution_count": 54,
   "metadata": {
    "tags": []
   },
   "outputs": [
    {
     "name": "stderr",
     "output_type": "stream",
     "text": [
      "Prompt: Prime Minister Anthony Albanese is expected to announce Australias pathway to getting nuclear-powered subs in San Diego on Tuesday (AEDT) alongside Mr Biden and Mr Sunak. He will then hold bilateral meetings with both. \"This is a joint arrangement between Australia, the United States, and the United Kingdom,\" he told reporters on Thursday during a visit to India. \"We are great friends. We have over a century of standing side by side during peacetime and during conflict.\n",
      "Extract the sentiment from the paragraph above and classify into neutral, positive or negative\n"
     ]
    }
   ],
   "source": [
    "instruction = \"Extract the sentiment from the paragraph above and classify into neutral, positive or negative\"\n",
    "\n",
    "prompt = f'{article_context}\\n{instruction}'\n",
    "logger.info(f'Prompt: {prompt}')"
   ]
  },
  {
   "cell_type": "code",
   "execution_count": 55,
   "metadata": {
    "tags": []
   },
   "outputs": [
    {
     "name": "stderr",
     "output_type": "stream",
     "text": [
      "Keywords in the article: \n",
      "\n",
      "Prime Minister Albanese is expected to announce Australia's pathway to getting nuclear-powered subs in San Diego on Tuesday, which is considered a positive change.\n"
     ]
    }
   ],
   "source": [
    "payload = {\"prompt\":prompt, \"max_token\":100, \"temperature\": 0.5}\n",
    "response = query_endpoint_with_json_payload(url, payload)\n",
    "generated_text = parse_response_multiple_texts(response)\n",
    "logger.info(f'Sentiment of the article: \\n{generated_text}')"
   ]
  },
  {
   "cell_type": "markdown",
   "metadata": {},
   "source": [
    "#### 3. Question answering from the article"
   ]
  },
  {
   "cell_type": "code",
   "execution_count": 66,
   "metadata": {
    "tags": []
   },
   "outputs": [],
   "source": [
    "article_context = \"Novak Djokovic reaches record 23 grand slam titles after French Open final win\\n\\nSerb beats Casper Ruud 7-6 (1), 6-3, 7-5 at Roland Garros\\nDjokovic now has one more grand slam title than Rafael Nadal\\n\\nSince his emergence at the top level of professional tennis 18 years ago, Novak Djokovic has used the dizzying bar set by Roger Federer and Rafael Nadal before him as inspiration to push himself to his limits, never doubting that he would one day rise above it.\\n\\nWhat once seemed impossible eventually became inevitable. On Sunday, Djokovic finally surpassed his great rivals in the most significant category of all as he defeated Casper Ruud 7-6 (1), 6-3, 7-5 to clinch his 23rd grand slam title, breaking his tie of 22 with Nadal.\\n\""
   ]
  },
  {
   "cell_type": "code",
   "execution_count": 67,
   "metadata": {
    "tags": []
   },
   "outputs": [],
   "source": [
    "question = \"Whom did Djokovic defeat and what was the score?\""
   ]
  },
  {
   "cell_type": "code",
   "execution_count": 68,
   "metadata": {
    "tags": []
   },
   "outputs": [
    {
     "name": "stderr",
     "output_type": "stream",
     "text": [
      "Prompt: Novak Djokovic reaches record 23 grand slam titles after French Open final win\n",
      "\n",
      "Serb beats Casper Ruud 7-6 (1), 6-3, 7-5 at Roland Garros\n",
      "Djokovic now has one more grand slam title than Rafael Nadal\n",
      "\n",
      "Since his emergence at the top level of professional tennis 18 years ago, Novak Djokovic has used the dizzying bar set by Roger Federer and Rafael Nadal before him as inspiration to push himself to his limits, never doubting that he would one day rise above it.\n",
      "\n",
      "What once seemed impossible eventually became inevitable. On Sunday, Djokovic finally surpassed his great rivals in the most significant category of all as he defeated Casper Ruud 7-6 (1), 6-3, 7-5 to clinch his 23rd grand slam title, breaking his tie of 22 with Nadal.\n",
      "\n",
      "Whom did Djokovic defeat and what was the score?\n",
      "Prompt: Novak Djokovic reaches record 23 grand slam titles after French Open final win\n",
      "\n",
      "Serb beats Casper Ruud 7-6 (1), 6-3, 7-5 at Roland Garros\n",
      "Djokovic now has one more grand slam title than Rafael Nadal\n",
      "\n",
      "Since his emergence at the top level of professional tennis 18 years ago, Novak Djokovic has used the dizzying bar set by Roger Federer and Rafael Nadal before him as inspiration to push himself to his limits, never doubting that he would one day rise above it.\n",
      "\n",
      "What once seemed impossible eventually became inevitable. On Sunday, Djokovic finally surpassed his great rivals in the most significant category of all as he defeated Casper Ruud 7-6 (1), 6-3, 7-5 to clinch his 23rd grand slam title, breaking his tie of 22 with Nadal.\n",
      "\n",
      "Whom did Djokovic defeat and what was the score?\n"
     ]
    }
   ],
   "source": [
    "prompt = f'{article_context}\\n{question}'\n",
    "logger.info(f'Prompt: {prompt}')"
   ]
  },
  {
   "cell_type": "code",
   "execution_count": 69,
   "metadata": {
    "tags": []
   },
   "outputs": [
    {
     "name": "stderr",
     "output_type": "stream",
     "text": [
      "Answer: \n",
      "\n",
      "Novak Djokovic defeated Casper Ruud 7-6 (1), 6-3, 7-5 to win the French Open and clinch his 23rd grand slam title.\n",
      "Answer: \n",
      "\n",
      "Novak Djokovic defeated Casper Ruud 7-6 (1), 6-3, 7-5 to win the French Open and clinch his 23rd grand slam title.\n"
     ]
    }
   ],
   "source": [
    "payload = {\"prompt\":prompt, \"max_token\":100, \"temperature\": 0.5}\n",
    "response = query_endpoint_with_json_payload(url, payload)\n",
    "generated_text = parse_response_multiple_texts(response)\n",
    "logger.info(f'Answer: \\n{generated_text}')"
   ]
  },
  {
   "cell_type": "markdown",
   "metadata": {},
   "source": [
    "#### 4. K-Shot prompt example"
   ]
  },
  {
   "cell_type": "markdown",
   "metadata": {},
   "source": [
    "#### Example - Lets check the model output without providing the examples of whatwe expect the model to respond back"
   ]
  },
  {
   "cell_type": "code",
   "execution_count": 78,
   "metadata": {
    "tags": []
   },
   "outputs": [
    {
     "name": "stderr",
     "output_type": "stream",
     "text": [
      "Prompt: \n",
      "Review: \"I really had fun watching this movie\"\n",
      "This review is:\n",
      "\n",
      "\n",
      "Prompt: \n",
      "Review: \"I really had fun watching this movie\"\n",
      "This review is:\n",
      "\n",
      "\n"
     ]
    }
   ],
   "source": [
    "prompt = f\"\"\"\n",
    "Review: \"I really had fun watching this movie\"\n",
    "This review is:\n",
    "\n",
    "\"\"\"\n",
    "logger.info(f'Prompt: {prompt}')"
   ]
  },
  {
   "cell_type": "code",
   "execution_count": 79,
   "metadata": {
    "tags": []
   },
   "outputs": [
    {
     "name": "stderr",
     "output_type": "stream",
     "text": [
      "Answer: \n",
      "Helpful\n",
      "Not helpful\n",
      "\n",
      "Please rate this review:\n",
      "\n",
      "Excellent\n",
      "Good\n",
      "Average\n",
      "Poor\n",
      "Answer: \n",
      "Helpful\n",
      "Not helpful\n",
      "\n",
      "Please rate this review:\n",
      "\n",
      "Excellent\n",
      "Good\n",
      "Average\n",
      "Poor\n"
     ]
    }
   ],
   "source": [
    "payload = {\"prompt\":prompt, \"max_token\":100, \"temperature\": 0.5}\n",
    "response = query_endpoint_with_json_payload(url, payload)\n",
    "generated_text = parse_response_multiple_texts(response)\n",
    "logger.info(f'Answer: \\n{generated_text}')"
   ]
  },
  {
   "cell_type": "markdown",
   "metadata": {
    "tags": []
   },
   "source": [
    "#### Example 2: \n",
    "As you can see above, we might expect the model to respond back with positive, nuetral or negative.\n",
    "But it does not and responds back with a more generic outputlets see how we can provide some examples to the model on what we expect "
   ]
  },
  {
   "cell_type": "code",
   "execution_count": 76,
   "metadata": {},
   "outputs": [
    {
     "name": "stderr",
     "output_type": "stream",
     "text": [
      "Prompt: \n",
      "\n",
      "Review: \"I loved this movie!\"\n",
      "This review is positive.\n",
      "\n",
      "Review: \"I am not sure, I think the movie was fine.\"\n",
      "The review is neutral.\n",
      "\n",
      "Review: \"This movie was a waste of time and money.\"\n",
      "This review is negative.\n",
      "\n",
      "Review: \"I really had fun watching this movie\"\n",
      "This review is:\n",
      "\n",
      "\n",
      "Prompt: \n",
      "\n",
      "Review: \"I loved this movie!\"\n",
      "This review is positive.\n",
      "\n",
      "Review: \"I am not sure, I think the movie was fine.\"\n",
      "The review is neutral.\n",
      "\n",
      "Review: \"This movie was a waste of time and money.\"\n",
      "This review is negative.\n",
      "\n",
      "Review: \"I really had fun watching this movie\"\n",
      "This review is:\n",
      "\n",
      "\n"
     ]
    }
   ],
   "source": [
    "prompt = f\"\"\"\n",
    "\n",
    "Review: \"I loved this movie!\"\n",
    "This review is positive.\n",
    "\n",
    "Review: \"I am not sure, I think the movie was fine.\"\n",
    "The review is neutral.\n",
    "\n",
    "Review: \"This movie was a waste of time and money.\"\n",
    "This review is negative.\n",
    "\n",
    "Review: \"I really had fun watching this movie\"\n",
    "This review is:\n",
    "\n",
    "\"\"\"\n",
    "logger.info(f'Prompt: {prompt}')"
   ]
  },
  {
   "cell_type": "code",
   "execution_count": 77,
   "metadata": {
    "tags": []
   },
   "outputs": [
    {
     "name": "stderr",
     "output_type": "stream",
     "text": [
      "Answer: \n",
      "positive\n",
      "Answer: \n",
      "positive\n"
     ]
    }
   ],
   "source": [
    "payload = {\"prompt\":prompt, \"max_token\":100, \"temperature\": 0.5}\n",
    "response = query_endpoint_with_json_payload(url, payload)\n",
    "generated_text = parse_response_multiple_texts(response)\n",
    "logger.info(f'Answer: \\n{generated_text}')"
   ]
  },
  {
   "cell_type": "code",
   "execution_count": null,
   "metadata": {},
   "outputs": [],
   "source": []
  }
 ],
 "metadata": {
  "availableInstances": [
   {
    "_defaultOrder": 0,
    "_isFastLaunch": true,
    "category": "General purpose",
    "gpuNum": 0,
    "hideHardwareSpecs": false,
    "memoryGiB": 4,
    "name": "ml.t3.medium",
    "vcpuNum": 2
   },
   {
    "_defaultOrder": 1,
    "_isFastLaunch": false,
    "category": "General purpose",
    "gpuNum": 0,
    "hideHardwareSpecs": false,
    "memoryGiB": 8,
    "name": "ml.t3.large",
    "vcpuNum": 2
   },
   {
    "_defaultOrder": 2,
    "_isFastLaunch": false,
    "category": "General purpose",
    "gpuNum": 0,
    "hideHardwareSpecs": false,
    "memoryGiB": 16,
    "name": "ml.t3.xlarge",
    "vcpuNum": 4
   },
   {
    "_defaultOrder": 3,
    "_isFastLaunch": false,
    "category": "General purpose",
    "gpuNum": 0,
    "hideHardwareSpecs": false,
    "memoryGiB": 32,
    "name": "ml.t3.2xlarge",
    "vcpuNum": 8
   },
   {
    "_defaultOrder": 4,
    "_isFastLaunch": true,
    "category": "General purpose",
    "gpuNum": 0,
    "hideHardwareSpecs": false,
    "memoryGiB": 8,
    "name": "ml.m5.large",
    "vcpuNum": 2
   },
   {
    "_defaultOrder": 5,
    "_isFastLaunch": false,
    "category": "General purpose",
    "gpuNum": 0,
    "hideHardwareSpecs": false,
    "memoryGiB": 16,
    "name": "ml.m5.xlarge",
    "vcpuNum": 4
   },
   {
    "_defaultOrder": 6,
    "_isFastLaunch": false,
    "category": "General purpose",
    "gpuNum": 0,
    "hideHardwareSpecs": false,
    "memoryGiB": 32,
    "name": "ml.m5.2xlarge",
    "vcpuNum": 8
   },
   {
    "_defaultOrder": 7,
    "_isFastLaunch": false,
    "category": "General purpose",
    "gpuNum": 0,
    "hideHardwareSpecs": false,
    "memoryGiB": 64,
    "name": "ml.m5.4xlarge",
    "vcpuNum": 16
   },
   {
    "_defaultOrder": 8,
    "_isFastLaunch": false,
    "category": "General purpose",
    "gpuNum": 0,
    "hideHardwareSpecs": false,
    "memoryGiB": 128,
    "name": "ml.m5.8xlarge",
    "vcpuNum": 32
   },
   {
    "_defaultOrder": 9,
    "_isFastLaunch": false,
    "category": "General purpose",
    "gpuNum": 0,
    "hideHardwareSpecs": false,
    "memoryGiB": 192,
    "name": "ml.m5.12xlarge",
    "vcpuNum": 48
   },
   {
    "_defaultOrder": 10,
    "_isFastLaunch": false,
    "category": "General purpose",
    "gpuNum": 0,
    "hideHardwareSpecs": false,
    "memoryGiB": 256,
    "name": "ml.m5.16xlarge",
    "vcpuNum": 64
   },
   {
    "_defaultOrder": 11,
    "_isFastLaunch": false,
    "category": "General purpose",
    "gpuNum": 0,
    "hideHardwareSpecs": false,
    "memoryGiB": 384,
    "name": "ml.m5.24xlarge",
    "vcpuNum": 96
   },
   {
    "_defaultOrder": 12,
    "_isFastLaunch": false,
    "category": "General purpose",
    "gpuNum": 0,
    "hideHardwareSpecs": false,
    "memoryGiB": 8,
    "name": "ml.m5d.large",
    "vcpuNum": 2
   },
   {
    "_defaultOrder": 13,
    "_isFastLaunch": false,
    "category": "General purpose",
    "gpuNum": 0,
    "hideHardwareSpecs": false,
    "memoryGiB": 16,
    "name": "ml.m5d.xlarge",
    "vcpuNum": 4
   },
   {
    "_defaultOrder": 14,
    "_isFastLaunch": false,
    "category": "General purpose",
    "gpuNum": 0,
    "hideHardwareSpecs": false,
    "memoryGiB": 32,
    "name": "ml.m5d.2xlarge",
    "vcpuNum": 8
   },
   {
    "_defaultOrder": 15,
    "_isFastLaunch": false,
    "category": "General purpose",
    "gpuNum": 0,
    "hideHardwareSpecs": false,
    "memoryGiB": 64,
    "name": "ml.m5d.4xlarge",
    "vcpuNum": 16
   },
   {
    "_defaultOrder": 16,
    "_isFastLaunch": false,
    "category": "General purpose",
    "gpuNum": 0,
    "hideHardwareSpecs": false,
    "memoryGiB": 128,
    "name": "ml.m5d.8xlarge",
    "vcpuNum": 32
   },
   {
    "_defaultOrder": 17,
    "_isFastLaunch": false,
    "category": "General purpose",
    "gpuNum": 0,
    "hideHardwareSpecs": false,
    "memoryGiB": 192,
    "name": "ml.m5d.12xlarge",
    "vcpuNum": 48
   },
   {
    "_defaultOrder": 18,
    "_isFastLaunch": false,
    "category": "General purpose",
    "gpuNum": 0,
    "hideHardwareSpecs": false,
    "memoryGiB": 256,
    "name": "ml.m5d.16xlarge",
    "vcpuNum": 64
   },
   {
    "_defaultOrder": 19,
    "_isFastLaunch": false,
    "category": "General purpose",
    "gpuNum": 0,
    "hideHardwareSpecs": false,
    "memoryGiB": 384,
    "name": "ml.m5d.24xlarge",
    "vcpuNum": 96
   },
   {
    "_defaultOrder": 20,
    "_isFastLaunch": false,
    "category": "General purpose",
    "gpuNum": 0,
    "hideHardwareSpecs": true,
    "memoryGiB": 0,
    "name": "ml.geospatial.interactive",
    "supportedImageNames": [
     "sagemaker-geospatial-v1-0"
    ],
    "vcpuNum": 0
   },
   {
    "_defaultOrder": 21,
    "_isFastLaunch": true,
    "category": "Compute optimized",
    "gpuNum": 0,
    "hideHardwareSpecs": false,
    "memoryGiB": 4,
    "name": "ml.c5.large",
    "vcpuNum": 2
   },
   {
    "_defaultOrder": 22,
    "_isFastLaunch": false,
    "category": "Compute optimized",
    "gpuNum": 0,
    "hideHardwareSpecs": false,
    "memoryGiB": 8,
    "name": "ml.c5.xlarge",
    "vcpuNum": 4
   },
   {
    "_defaultOrder": 23,
    "_isFastLaunch": false,
    "category": "Compute optimized",
    "gpuNum": 0,
    "hideHardwareSpecs": false,
    "memoryGiB": 16,
    "name": "ml.c5.2xlarge",
    "vcpuNum": 8
   },
   {
    "_defaultOrder": 24,
    "_isFastLaunch": false,
    "category": "Compute optimized",
    "gpuNum": 0,
    "hideHardwareSpecs": false,
    "memoryGiB": 32,
    "name": "ml.c5.4xlarge",
    "vcpuNum": 16
   },
   {
    "_defaultOrder": 25,
    "_isFastLaunch": false,
    "category": "Compute optimized",
    "gpuNum": 0,
    "hideHardwareSpecs": false,
    "memoryGiB": 72,
    "name": "ml.c5.9xlarge",
    "vcpuNum": 36
   },
   {
    "_defaultOrder": 26,
    "_isFastLaunch": false,
    "category": "Compute optimized",
    "gpuNum": 0,
    "hideHardwareSpecs": false,
    "memoryGiB": 96,
    "name": "ml.c5.12xlarge",
    "vcpuNum": 48
   },
   {
    "_defaultOrder": 27,
    "_isFastLaunch": false,
    "category": "Compute optimized",
    "gpuNum": 0,
    "hideHardwareSpecs": false,
    "memoryGiB": 144,
    "name": "ml.c5.18xlarge",
    "vcpuNum": 72
   },
   {
    "_defaultOrder": 28,
    "_isFastLaunch": false,
    "category": "Compute optimized",
    "gpuNum": 0,
    "hideHardwareSpecs": false,
    "memoryGiB": 192,
    "name": "ml.c5.24xlarge",
    "vcpuNum": 96
   },
   {
    "_defaultOrder": 29,
    "_isFastLaunch": true,
    "category": "Accelerated computing",
    "gpuNum": 1,
    "hideHardwareSpecs": false,
    "memoryGiB": 16,
    "name": "ml.g4dn.xlarge",
    "vcpuNum": 4
   },
   {
    "_defaultOrder": 30,
    "_isFastLaunch": false,
    "category": "Accelerated computing",
    "gpuNum": 1,
    "hideHardwareSpecs": false,
    "memoryGiB": 32,
    "name": "ml.g4dn.2xlarge",
    "vcpuNum": 8
   },
   {
    "_defaultOrder": 31,
    "_isFastLaunch": false,
    "category": "Accelerated computing",
    "gpuNum": 1,
    "hideHardwareSpecs": false,
    "memoryGiB": 64,
    "name": "ml.g4dn.4xlarge",
    "vcpuNum": 16
   },
   {
    "_defaultOrder": 32,
    "_isFastLaunch": false,
    "category": "Accelerated computing",
    "gpuNum": 1,
    "hideHardwareSpecs": false,
    "memoryGiB": 128,
    "name": "ml.g4dn.8xlarge",
    "vcpuNum": 32
   },
   {
    "_defaultOrder": 33,
    "_isFastLaunch": false,
    "category": "Accelerated computing",
    "gpuNum": 4,
    "hideHardwareSpecs": false,
    "memoryGiB": 192,
    "name": "ml.g4dn.12xlarge",
    "vcpuNum": 48
   },
   {
    "_defaultOrder": 34,
    "_isFastLaunch": false,
    "category": "Accelerated computing",
    "gpuNum": 1,
    "hideHardwareSpecs": false,
    "memoryGiB": 256,
    "name": "ml.g4dn.16xlarge",
    "vcpuNum": 64
   },
   {
    "_defaultOrder": 35,
    "_isFastLaunch": false,
    "category": "Accelerated computing",
    "gpuNum": 1,
    "hideHardwareSpecs": false,
    "memoryGiB": 61,
    "name": "ml.p3.2xlarge",
    "vcpuNum": 8
   },
   {
    "_defaultOrder": 36,
    "_isFastLaunch": false,
    "category": "Accelerated computing",
    "gpuNum": 4,
    "hideHardwareSpecs": false,
    "memoryGiB": 244,
    "name": "ml.p3.8xlarge",
    "vcpuNum": 32
   },
   {
    "_defaultOrder": 37,
    "_isFastLaunch": false,
    "category": "Accelerated computing",
    "gpuNum": 8,
    "hideHardwareSpecs": false,
    "memoryGiB": 488,
    "name": "ml.p3.16xlarge",
    "vcpuNum": 64
   },
   {
    "_defaultOrder": 38,
    "_isFastLaunch": false,
    "category": "Accelerated computing",
    "gpuNum": 8,
    "hideHardwareSpecs": false,
    "memoryGiB": 768,
    "name": "ml.p3dn.24xlarge",
    "vcpuNum": 96
   },
   {
    "_defaultOrder": 39,
    "_isFastLaunch": false,
    "category": "Memory Optimized",
    "gpuNum": 0,
    "hideHardwareSpecs": false,
    "memoryGiB": 16,
    "name": "ml.r5.large",
    "vcpuNum": 2
   },
   {
    "_defaultOrder": 40,
    "_isFastLaunch": false,
    "category": "Memory Optimized",
    "gpuNum": 0,
    "hideHardwareSpecs": false,
    "memoryGiB": 32,
    "name": "ml.r5.xlarge",
    "vcpuNum": 4
   },
   {
    "_defaultOrder": 41,
    "_isFastLaunch": false,
    "category": "Memory Optimized",
    "gpuNum": 0,
    "hideHardwareSpecs": false,
    "memoryGiB": 64,
    "name": "ml.r5.2xlarge",
    "vcpuNum": 8
   },
   {
    "_defaultOrder": 42,
    "_isFastLaunch": false,
    "category": "Memory Optimized",
    "gpuNum": 0,
    "hideHardwareSpecs": false,
    "memoryGiB": 128,
    "name": "ml.r5.4xlarge",
    "vcpuNum": 16
   },
   {
    "_defaultOrder": 43,
    "_isFastLaunch": false,
    "category": "Memory Optimized",
    "gpuNum": 0,
    "hideHardwareSpecs": false,
    "memoryGiB": 256,
    "name": "ml.r5.8xlarge",
    "vcpuNum": 32
   },
   {
    "_defaultOrder": 44,
    "_isFastLaunch": false,
    "category": "Memory Optimized",
    "gpuNum": 0,
    "hideHardwareSpecs": false,
    "memoryGiB": 384,
    "name": "ml.r5.12xlarge",
    "vcpuNum": 48
   },
   {
    "_defaultOrder": 45,
    "_isFastLaunch": false,
    "category": "Memory Optimized",
    "gpuNum": 0,
    "hideHardwareSpecs": false,
    "memoryGiB": 512,
    "name": "ml.r5.16xlarge",
    "vcpuNum": 64
   },
   {
    "_defaultOrder": 46,
    "_isFastLaunch": false,
    "category": "Memory Optimized",
    "gpuNum": 0,
    "hideHardwareSpecs": false,
    "memoryGiB": 768,
    "name": "ml.r5.24xlarge",
    "vcpuNum": 96
   },
   {
    "_defaultOrder": 47,
    "_isFastLaunch": false,
    "category": "Accelerated computing",
    "gpuNum": 1,
    "hideHardwareSpecs": false,
    "memoryGiB": 16,
    "name": "ml.g5.xlarge",
    "vcpuNum": 4
   },
   {
    "_defaultOrder": 48,
    "_isFastLaunch": false,
    "category": "Accelerated computing",
    "gpuNum": 1,
    "hideHardwareSpecs": false,
    "memoryGiB": 32,
    "name": "ml.g5.2xlarge",
    "vcpuNum": 8
   },
   {
    "_defaultOrder": 49,
    "_isFastLaunch": false,
    "category": "Accelerated computing",
    "gpuNum": 1,
    "hideHardwareSpecs": false,
    "memoryGiB": 64,
    "name": "ml.g5.4xlarge",
    "vcpuNum": 16
   },
   {
    "_defaultOrder": 50,
    "_isFastLaunch": false,
    "category": "Accelerated computing",
    "gpuNum": 1,
    "hideHardwareSpecs": false,
    "memoryGiB": 128,
    "name": "ml.g5.8xlarge",
    "vcpuNum": 32
   },
   {
    "_defaultOrder": 51,
    "_isFastLaunch": false,
    "category": "Accelerated computing",
    "gpuNum": 1,
    "hideHardwareSpecs": false,
    "memoryGiB": 256,
    "name": "ml.g5.16xlarge",
    "vcpuNum": 64
   },
   {
    "_defaultOrder": 52,
    "_isFastLaunch": false,
    "category": "Accelerated computing",
    "gpuNum": 4,
    "hideHardwareSpecs": false,
    "memoryGiB": 192,
    "name": "ml.g5.12xlarge",
    "vcpuNum": 48
   },
   {
    "_defaultOrder": 53,
    "_isFastLaunch": false,
    "category": "Accelerated computing",
    "gpuNum": 4,
    "hideHardwareSpecs": false,
    "memoryGiB": 384,
    "name": "ml.g5.24xlarge",
    "vcpuNum": 96
   },
   {
    "_defaultOrder": 54,
    "_isFastLaunch": false,
    "category": "Accelerated computing",
    "gpuNum": 8,
    "hideHardwareSpecs": false,
    "memoryGiB": 768,
    "name": "ml.g5.48xlarge",
    "vcpuNum": 192
   },
   {
    "_defaultOrder": 55,
    "_isFastLaunch": false,
    "category": "Accelerated computing",
    "gpuNum": 8,
    "hideHardwareSpecs": false,
    "memoryGiB": 1152,
    "name": "ml.p4d.24xlarge",
    "vcpuNum": 96
   },
   {
    "_defaultOrder": 56,
    "_isFastLaunch": false,
    "category": "Accelerated computing",
    "gpuNum": 8,
    "hideHardwareSpecs": false,
    "memoryGiB": 1152,
    "name": "ml.p4de.24xlarge",
    "vcpuNum": 96
   }
  ],
  "instance_type": "ml.t3.medium",
  "kernelspec": {
   "display_name": "Python 3 (Data Science 2.0)",
   "language": "python",
   "name": "python3__SAGEMAKER_INTERNAL__arn:aws:sagemaker:us-east-1:081325390199:image/sagemaker-data-science-38"
  },
  "language_info": {
   "codemirror_mode": {
    "name": "ipython",
    "version": 3
   },
   "file_extension": ".py",
   "mimetype": "text/x-python",
   "name": "python",
   "nbconvert_exporter": "python",
   "pygments_lexer": "ipython3",
   "version": "3.8.13"
  }
 },
 "nbformat": 4,
 "nbformat_minor": 4
}
